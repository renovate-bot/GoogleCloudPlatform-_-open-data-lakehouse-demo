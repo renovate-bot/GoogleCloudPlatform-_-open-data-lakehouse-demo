{
  "cells": [
    {
      "cell_type": "code",
      "source": [
        "# Copyright 2025 Google LLC\n",
        "#\n",
        "# Licensed under the Apache License, Version 2.0 (the \"License\");\n",
        "# you may not use this file except in compliance with the License.\n",
        "# You may obtain a copy of the License at\n",
        "#\n",
        "#     https://www.apache.org/licenses/LICENSE-2.0\n",
        "#\n",
        "# Unless required by applicable law or agreed to in writing, software\n",
        "# distributed under the License is distributed on an \"AS IS\" BASIS,\n",
        "# WITHOUT WARRANTIES OR CONDITIONS OF ANY KIND, either express or implied.\n",
        "# See the License for the specific language governing permissions and\n",
        "# limitations under the License."
      ],
      "metadata": {
        "id": "3rDg9KfcBdJP"
      },
      "id": "3rDg9KfcBdJP",
      "execution_count": null,
      "outputs": []
    },
    {
      "cell_type": "markdown",
      "id": "Hbol",
      "metadata": {
        "id": "Hbol"
      },
      "source": [
        "# Ridership Open Lakehouse Demo (Part 1): Load data to BigQuery Iceberg tables\n",
        "\n",
        "This notebook will demonstrate a strategy to implement an open lakehouse on GCP, using Apache Iceberg,\n",
        "as an open source standard for managing data, while still leveraging GCP native capabilities. This demo will use\n",
        "BigQuery Manged Iceberg Tables, Managed Apache Kafka and Apache Kafka Connect to ingest streaming data, Vertex AI for Generative AI queries on top of the data and Dataplex to govern tables.\n",
        "\n",
        "This notebook will load data into BigQuery, backed by Parquet files, in the Apache Iceberg specification.\n",
        "\n",
        "If you created the demo, using our terraform scripts, you should be able to access the data files under the `<YOUR_PROJECT_ID>-ridership-lakehouse` bucket, as the terraform script copies over the data files from a publicly available bucket `gs://data-lakehouse-demo-data-assets/staged-data/`.\n",
        "\n",
        "If you haven't created this demo using our terraform scripts, the easiest way to get a hold of the data would be to run the following `gsutil` command:\n",
        "\n",
        "```bash\n",
        "gsutil -m rsync -r gs://data-lakehouse-demo-data-assets/  gs://<YOUR_BUCKET_NAME>/\n",
        "```\n",
        "\n",
        "All data in this notebook was prepared in the previous `part0` notebook."
      ],
      "execution_count": null
    },
    {
      "cell_type": "markdown",
      "id": "MJUe",
      "metadata": {
        "marimo": {
          "config": {
            "hide_code": true
          }
        },
        "id": "MJUe"
      },
      "source": [
        "## Setup the environment"
      ],
      "execution_count": null
    },
    {
      "cell_type": "code",
      "execution_count": null,
      "id": "vblA",
      "metadata": {
        "id": "vblA"
      },
      "outputs": [],
      "source": [
        "import os\n",
        "USER_AGENT = \"cloud-solutions/data-to-ai-nb-v3\"\n",
        "\n",
        "PROJECT_ID = !gcloud config get-value project\n",
        "PROJECT_ID = PROJECT_ID[0]\n",
        "\n",
        "LOCATION = \"us-central1\"\n",
        "\n",
        "BQ_DATASET = \"ridership_lakehouse\"\n",
        "BQ_CONNECTION_NAME = \"cloud-resources-connection\"\n",
        "\n",
        "GENERAL_BUCKET_NAME = f\"{PROJECT_ID}-ridership-lakehouse\"\n",
        "BQ_CATALOG_BUCKET_NAME = f\"{PROJECT_ID}-iceberg-bq-catalog\"\n",
        "REST_CATALOG_BUCKET_NAME = f\"{PROJECT_ID}-iceberg-rest-catalog\"\n",
        "\n",
        "BQ_CATALOG_PREFIX = \"bq_namespace\"\n",
        "REST_CATALOG_PREFIX = \"rest_namespace\"\n",
        "\n",
        "print(PROJECT_ID)"
      ]
    },
    {
      "cell_type": "code",
      "source": [
        "!pip install fastavro --quiet"
      ],
      "metadata": {
        "id": "OO8ccqmVrDdd"
      },
      "id": "OO8ccqmVrDdd",
      "execution_count": null,
      "outputs": []
    },
    {
      "cell_type": "code",
      "execution_count": null,
      "id": "lEQa",
      "metadata": {
        "id": "lEQa"
      },
      "outputs": [],
      "source": [
        "from google.cloud import bigquery, storage\n",
        "from google.api_core.client_info import ClientInfo\n",
        "\n",
        "bigquery_client = bigquery.Client(\n",
        "    project=PROJECT_ID,\n",
        "    location=LOCATION,\n",
        "    client_info=ClientInfo(user_agent=USER_AGENT)\n",
        ")\n",
        "storage_client = storage.Client(\n",
        "    project=PROJECT_ID,\n",
        "    client_info=ClientInfo(user_agent=USER_AGENT)\n",
        ")\n",
        "\n",
        "general_bucket = storage_client.bucket(GENERAL_BUCKET_NAME)"
      ]
    },
    {
      "cell_type": "code",
      "source": [
        "# create/reference the bq dataset, and clean all tables\n",
        "dataset_ref = bigquery.Dataset(f\"{PROJECT_ID}.{BQ_DATASET}\")\n",
        "dataset_ref.location = LOCATION"
      ],
      "metadata": {
        "id": "ugEQEeAtZ1n1"
      },
      "id": "ugEQEeAtZ1n1",
      "execution_count": null,
      "outputs": []
    },
    {
      "cell_type": "code",
      "source": [
        "# WARNING: don't auto-run this cell, it contains destructive actions\n",
        "# create/reference the bq dataset\n",
        "# deletes all the tables\n",
        "dataset = bigquery_client.create_dataset(dataset_ref, exists_ok=True)\n",
        "\n",
        "for table in bigquery_client.list_tables(dataset):\n",
        "    bigquery_client.delete_table(table)"
      ],
      "metadata": {
        "id": "DAJqwAKqaz5j"
      },
      "id": "DAJqwAKqaz5j",
      "execution_count": null,
      "outputs": []
    },
    {
      "cell_type": "code",
      "source": [
        "# Some helper functions\n",
        "\n",
        "import pandas as pd\n",
        "\n",
        "pd.set_option('display.max_colwidth', None)\n",
        "\n",
        "def display_blobs_with_prefix(bucket_name: str, prefix: str, top=20):\n",
        "\n",
        "  blobs = [[b.name, b.size, b.content_type, b.updated] for b in\n",
        "         storage_client.list_blobs(bucket_name, prefix=prefix, )]\n",
        "  df = pd.DataFrame(blobs, columns=[\"Name\", \"Size\", \"Content Type\", \"Updated\"])\n",
        "  return df.head(top)\n",
        "\n",
        "def delete_blobs_with_prefix(bucket_name: str, prefix: str):\n",
        "  blobs = storage_client.list_blobs(bucket_name, prefix=prefix)\n",
        "  for blob in blobs:\n",
        "    blob.delete()\n",
        "\n",
        "\n",
        "def select_top_rows(table_name: str, num_rows: int=10):\n",
        "  query = f\"\"\"\n",
        "  SELECT *\n",
        "  FROM `{PROJECT_ID}.{BQ_DATASET}.{table_name}`\n",
        "  LIMIT {num_rows}\n",
        "  \"\"\"\n",
        "  return bigquery_client.query(query).to_dataframe()"
      ],
      "metadata": {
        "id": "OWx9xx9aWpGu"
      },
      "id": "OWx9xx9aWpGu",
      "outputs": [],
      "execution_count": null
    },
    {
      "cell_type": "markdown",
      "source": "## Create the tables and load data",
      "metadata": {
        "id": "z2TGzD069Kwp"
      },
      "id": "z2TGzD069Kwp",
      "execution_count": null
    },
    {
      "cell_type": "markdown",
      "source": [
        "### Different types of Iceberg tables in BigQuery\n",
        "\n",
        "BigQuery offers two ways to work with Apache Iceberg tables:\n",
        "\n",
        "1. **[BigQuery Tables for Apache Iceberg](https://cloud.google.com/bigquery/docs/iceberg-tables#create-iceberg-tables)**.\n",
        "2. **[BigLake metastore with the Iceberg REST catalog](https://cloud.google.com/bigquery/docs/blms-rest-catalog)**\n",
        "\n",
        "For most migration and native BigQuery use cases, **BigQuery Tables for Apache Iceberg (managed by BigQuery) is the strongly preferred method.**\n",
        "\n",
        "-----\n",
        "\n",
        "**1\\. BigQuery Tables for Apache Iceberg (Managed by BigQuery)**\n",
        "\n",
        "\n",
        "**This is the recommended approach for migrating your data and integrating Iceberg within BigQuery.** These tables offer full BigQuery management of Iceberg, eliminating the need for a separate catalog.\n",
        "\n",
        "**SQL Example:**\n",
        "\n",
        "```sql\n",
        "CREATE OR REPLACE TABLE `your-project.your_dataset.your_iceberg_table`(\n",
        "    <column_definition>\n",
        ")\n",
        "WITH CONNECTION `your-region.your_connection_name`\n",
        "OPTIONS (\n",
        "    file_format = 'PARQUET',\n",
        "    table_format = 'ICEBERG',\n",
        "    storage_uri = 'gs://your-bucket/iceberg/your_table_name'\n",
        ");\n",
        "```\n",
        "\n",
        "**Why should you prefer Managed Tables:**\n",
        "\n",
        "BigQuery-managed Iceberg tables unlock powerful features essential for modern data solutions:\n",
        "\n",
        "  * **Native Integration:** Seamless experience, similar to standard BigQuery tables.\n",
        "  * **Full DML Support:** Perform `INSERT`, `UPDATE`, `DELETE`, `MERGE` directly with GoogleSQL.\n",
        "  * **Unified Ingestion:** Supports both batch and high-throughput streaming via the Storage Write API.\n",
        "  * **Schema Evolution:** BigQuery handles schema changes (add, drop, rename columns, type changes) effortlessly.\n",
        "  * **Automatic Optimization:** Benefits from BigQuery's built-in optimizations like adaptive file sizing, clustering, and garbage collection.\n",
        "  * **Robust Security:** Leverage BigQuery's column-level security and data masking.\n",
        "  * **Simplified Operations:** Reduced overhead by letting BigQuery manage the Iceberg table lifecycle.\n",
        "\n",
        "This method provides a more robust, integrated, and efficient way to leverage Iceberg data within the BigQuery ecosystem.\n",
        "\n",
        "\n",
        "-----\n",
        "\n",
        "**2\\. BigLake metastore with the Iceberg REST catalog**\n",
        "\n",
        "\n",
        "These tables allow BigQuery to query Iceberg data managed by external systems like Spark or Hive. They are best for hybrid setups where multiple tools need read access and an external system controls the table's lifecycle.\n",
        "\n",
        "**SQL Example:**\n",
        "\n",
        "```sql\n",
        "CREATE OR REPLACE EXTERNAL TABLE `your-project.your_dataset.your_external_iceberg_table`\n",
        "  WITH CONNECTION `your-region.your_connection_name`\n",
        "  OPTIONS (\n",
        "         format = 'ICEBERG',\n",
        "         uris = [\"gs://mybucket/mydata/mytable/metadata/iceberg.metadata.json\"]\n",
        "   )\n",
        "```\n",
        "\n",
        "**Key Points:**\n",
        "\n",
        "  * **External Control:** Metadata and data managed outside BigQuery.\n",
        "  * **Read-Only:** BigQuery can only query; DML operations are not supported.\n",
        "  * **Hybrid Fit:** Ideal for shared access from various tools.\n",
        "  * **Metadata:** Manual updates for static JSON pointers; BigLake Metastore preferred for dynamic syncing in GCP.\n",
        "\n",
        "\n",
        "#### How to Choose?\n",
        "\n",
        "Generally, to leverage the most out of you Iceberg data, prefer the managed tables. They provide better integration and automatic optimization.\n",
        "\n",
        "If you have BigQuery centric pipelines, with data generated by BigQuery, managed iceberg tables are the obvious choice.\n",
        "\n",
        "Choose external tables, if you have spark centric pipelines (or another external engine) that generate and write Iceberg data in GCS, and BigQuery only requires read-only access.\n",
        "\n",
        "In a real world scenario, you will probably have some of both, so a truly unified data platform would have a mixture of both tables.\n",
        "\n",
        "In this notebook, we will create the 2 different types of tables, to demonstrate that the 2 methods can be combined according to your needs.\n",
        "\n",
        "We will generate managed tables for the `bus_stations` and `ridership` datasets, while for the `bus_lines` dataset, we will write iceberg data directly to GCS, using Apache Spark, and mount the data as an external table in BigQuery.\n"
      ],
      "metadata": {
        "id": "vyt1ywHoviSE"
      },
      "id": "vyt1ywHoviSE",
      "execution_count": null
    },
    {
      "cell_type": "markdown",
      "source": [
        "### The `bus_stations` table\n",
        "\n",
        "This table will be loaded as a BigQuery Iceberg table (option 2)- managed by BigQuery, read-only access to other processing engines.\n"
      ],
      "metadata": {
        "id": "GDsTeoKVcA2a"
      },
      "id": "GDsTeoKVcA2a",
      "execution_count": null
    },
    {
      "cell_type": "code",
      "execution_count": null,
      "id": "Xref",
      "metadata": {
        "id": "Xref"
      },
      "outputs": [],
      "source": [
        "bus_stops_prefix = f\"{BQ_CATALOG_PREFIX}/bus_stations\"\n",
        "bus_stops_uri = f\"gs://{BQ_CATALOG_BUCKET_NAME}/{bus_stops_prefix}/\"\n",
        "\n",
        "# Clear the GCS path before\n",
        "delete_blobs_with_prefix(BQ_CATALOG_BUCKET_NAME, bus_stops_prefix)\n",
        "display_blobs_with_prefix(BQ_CATALOG_BUCKET_NAME, bus_stops_prefix)"
      ]
    },
    {
      "metadata": {},
      "cell_type": "code",
      "outputs": [],
      "execution_count": null,
      "source": [
        "# drop the table\n",
        "bigquery_client.query(f\"DROP TABLE IF EXISTS {BQ_DATASET}.bus_stations;\").result()\n",
        "\n",
        "# create the table\n",
        "query = f\"\"\"\n",
        "CREATE TABLE {BQ_DATASET}.bus_stations\n",
        "(\n",
        "  bus_stop_id INTEGER,\n",
        "  address STRING,\n",
        "  school_zone BOOLEAN,\n",
        "  seating BOOLEAN,\n",
        "  borough STRING,\n",
        "  latitude FLOAT64,\n",
        "  longtitude FLOAT64\n",
        ")\n",
        "WITH CONNECTION `{PROJECT_ID}.{LOCATION}.{BQ_CONNECTION_NAME}`\n",
        "OPTIONS (\n",
        "  file_format = 'PARQUET',\n",
        "  table_format = 'ICEBERG',\n",
        "  storage_uri = '{bus_stops_uri}');\n",
        "\"\"\"\n",
        "bigquery_client.query(query).result()"
      ],
      "id": "981d162c6ac48eea"
    },
    {
      "metadata": {},
      "cell_type": "code",
      "outputs": [],
      "execution_count": null,
      "source": [
        "# We can view the GCS path, and see that there is now an ICEBERG metadata file, but no data\n",
        "display_blobs_with_prefix(BQ_CATALOG_BUCKET_NAME, bus_stops_prefix)"
      ],
      "id": "65da716c8b1dc267"
    },
    {
      "cell_type": "code",
      "source": [
        "import json\n",
        "\n",
        "# Let's review the metadata file that we have\n",
        "file = list(storage_client.list_blobs(BQ_CATALOG_BUCKET_NAME, match_glob=f\"{bus_stops_prefix}/metadata/*.metadata.json\"))[0]\n",
        "metadata = file.download_as_string()\n",
        "print(json.loads(metadata.decode(\"utf-8\")))"
      ],
      "metadata": {
        "id": "pzbgTsLImHtN"
      },
      "id": "pzbgTsLImHtN",
      "outputs": [],
      "execution_count": null
    },
    {
      "cell_type": "markdown",
      "source": [
        "Not much there. Just the fact that we have a table, and not much more.\n",
        "\n",
        "We'll now load data into the table, and see what happens."
      ],
      "metadata": {
        "id": "Lr7eXVQicRVW"
      },
      "id": "Lr7eXVQicRVW",
      "execution_count": null
    },
    {
      "cell_type": "code",
      "source": [
        "# we will now load the data from the CSV in GCS\n",
        "\n",
        "# BQ tables for Apache Iceberg do not support load with truncating, so we will truncate manually, and then load\n",
        "truncate = bigquery_client.query(f\"DELETE FROM {BQ_DATASET}.bus_stations WHERE TRUE\")\n",
        "truncate.result()\n",
        "\n",
        "job_config = bigquery.LoadJobConfig(\n",
        "    write_disposition=bigquery.WriteDisposition.WRITE_APPEND,\n",
        "    source_format=bigquery.SourceFormat.CSV,\n",
        "    skip_leading_rows=1,\n",
        ")\n",
        "\n",
        "job = bigquery_client.load_table_from_uri(\n",
        "    f\"gs://{GENERAL_BUCKET_NAME}/staged-data/bus_stations.csv\",\n",
        "    dataset.table(\"bus_stations\"),\n",
        "    job_config=job_config,\n",
        ")\n",
        "\n",
        "job.result()"
      ],
      "metadata": {
        "id": "qjUf5Qlbma05"
      },
      "id": "qjUf5Qlbma05",
      "execution_count": null,
      "outputs": []
    },
    {
      "cell_type": "code",
      "source": [
        "# We can verify that the data is actually loaded in the iceberg specification and the format used is parquet\n",
        "display_blobs_with_prefix(BQ_CATALOG_BUCKET_NAME, bus_stops_prefix)"
      ],
      "metadata": {
        "id": "rggvYQ7ApP2N"
      },
      "id": "rggvYQ7ApP2N",
      "outputs": [],
      "execution_count": null
    },
    {
      "cell_type": "markdown",
      "source": [
        "We can see in the output that we have some parquet files generated under the `iceberg_data/bus_stations/data/` folder, and one `v0.metadata.json` under the `iceberg_data/bus_stations/metadata/` folder.\n",
        "\n",
        "The `iceberg_data/bus_stations/data` folder, contains the `parquet` files with the actual data.\n",
        "\n",
        "The `iceberg_data/bus_stations/metadata` folder contains the metadata files - currently only one - but more data will be in there, as our tables evolve (schema changes, rollbacks etc.).\n",
        "\n",
        "The `v0.metadata.json` file, which can have other prefixes, contains the important info for this version of the table. Let's take a quick look at this file."
      ],
      "metadata": {
        "id": "NBGqkxosXcie"
      },
      "id": "NBGqkxosXcie",
      "execution_count": null
    },
    {
      "cell_type": "code",
      "source": [
        "file = list(storage_client.list_blobs(BQ_CATALOG_BUCKET_NAME, match_glob=f\"{bus_stops_prefix}/metadata/*.metadata.json\"))[0]\n",
        "metadata = file.download_as_string()\n",
        "print(json.loads(metadata.decode(\"utf-8\")))"
      ],
      "metadata": {
        "id": "Xs0MIDDxYLjI"
      },
      "id": "Xs0MIDDxYLjI",
      "outputs": [],
      "execution_count": null
    },
    {
      "cell_type": "markdown",
      "source": [
        "Still not much there, but we'll compare this content to a file generated by our `EXTERNAL` catalog, to see the differences.\n",
        "\n",
        "While the data was loaded to the table, and it is available to BigQuery - currently, the fact we loaded the data, **DOES NOT** trigger a metadata refresh\n",
        "\n",
        "So, let's verify that the data is available, and then trigger a metadata refresh.\n",
        "\n",
        "**REMEMBER** the fact that the metadata json file isn't updated, doesn't mean that the metadata is not kept in BigQuery internal engine. We just need to trigger a metadata refresh to make the metadata available to other engines."
      ],
      "metadata": {
        "id": "FO69Buz5wf4J"
      },
      "id": "FO69Buz5wf4J",
      "execution_count": null
    },
    {
      "cell_type": "code",
      "source": "select_top_rows(\"bus_stations\")",
      "metadata": {
        "id": "n0Ep6-y5nm86"
      },
      "id": "n0Ep6-y5nm86",
      "execution_count": null,
      "outputs": []
    },
    {
      "cell_type": "code",
      "source": [
        "# Now let's refresh the metadata\n",
        "bigquery_client.query(f\"EXPORT TABLE METADATA FROM {BQ_DATASET}.bus_stations\").result()"
      ],
      "metadata": {
        "id": "kxKg_T0OojWp"
      },
      "id": "kxKg_T0OojWp",
      "execution_count": null,
      "outputs": []
    },
    {
      "cell_type": "code",
      "source": [
        "# Now let's take a closer look at the metadata folder only\n",
        "display_blobs_with_prefix(BQ_CATALOG_BUCKET_NAME, bus_stops_prefix + \"/metadata\")"
      ],
      "metadata": {
        "id": "ZMC327HUo0Z-"
      },
      "id": "ZMC327HUo0Z-",
      "outputs": [],
      "execution_count": null
    },
    {
      "cell_type": "markdown",
      "source": [
        "We now basically see, what happens when we create a metadata snapshot - iceberg creates a new snapshot of the metadata.\n",
        "\n",
        "We also see a `version-hint.text` file to help us find the most up-to-date version of the metadata.\n",
        "\n",
        "Let's take a closer look:"
      ],
      "metadata": {
        "id": "Rv-DM4YSpKId"
      },
      "id": "Rv-DM4YSpKId",
      "execution_count": null
    },
    {
      "cell_type": "code",
      "source": [
        "from pprint import pprint\n",
        "\n",
        "all_metadata_blobs = list(storage_client.list_blobs(BQ_CATALOG_BUCKET_NAME, match_glob=f\"{bus_stops_prefix}/metadata/*\"))\n",
        "\n",
        "version_hint_blob = list(filter(lambda x: x.name.endswith(\"version-hint.text\"), all_metadata_blobs))[0]\n",
        "version_hint = version_hint_blob.download_as_string().decode(\"utf-8\")\n",
        "\n",
        "# The version hint just has the right version, so now we know which json file to look for\n",
        "print(f\"Latest Version of metadata: {version_hint}\")\n",
        "print(\"\")\n",
        "print(\"-\" * 20)\n",
        "\n",
        "latest_json_file = list(filter(lambda x: x.name.endswith(f\"v{version_hint}.metadata.json\"), all_metadata_blobs))[0]\n",
        "latest_json = json.loads(latest_json_file.download_as_string().decode(\"utf-8\"))\n",
        "print(\"Latest metadata from our file:\")\n",
        "print(\"\")\n",
        "pprint(latest_json)"
      ],
      "metadata": {
        "id": "UGAyco-yqmdw"
      },
      "id": "UGAyco-yqmdw",
      "execution_count": null,
      "outputs": []
    },
    {
      "cell_type": "code",
      "source": [
        "# Definitely much more metadata!!!!\n",
        "# One last thing before we continue, let's take a look at the avro files\n",
        "# in the json file, we see one of them being mentioned (the \"manifest-list\")\n",
        "# but not the other. Let's take a look at the manifest-list file\n",
        "\n",
        "import fastavro\n",
        "manifest_list_file = list(filter(lambda x: \"manifest-list-000\" in x.name, all_metadata_blobs))[0]\n",
        "\n",
        "with manifest_list_file.open('rb') as fo:\n",
        "  avro_reader = fastavro.reader(fo)\n",
        "  for record in avro_reader:\n",
        "    pprint(record)"
      ],
      "metadata": {
        "id": "4nIrIDkytqXj"
      },
      "id": "4nIrIDkytqXj",
      "execution_count": null,
      "outputs": []
    },
    {
      "cell_type": "code",
      "source": [
        "# We can see the metadata that was generated when we loaded the data through BigQuery\n",
        "# Number of files that we saw (parquet files)\n",
        "# rows added etc.\n",
        "\n",
        "# we also see a reference to the other avro file - so let's take a look there:\n",
        "\n",
        "avro_file = list(filter(lambda x: \"manifest-list-000\" not in x.name and x.name.endswith(\".avro\"), all_metadata_blobs))[0]\n",
        "\n",
        "with avro_file.open('rb') as fo:\n",
        "  avro_reader = fastavro.reader(fo)\n",
        "  for record in avro_reader:\n",
        "    pprint(record)"
      ],
      "metadata": {
        "id": "Aixw99UVu-9f"
      },
      "id": "Aixw99UVu-9f",
      "outputs": [],
      "execution_count": null
    },
    {
      "cell_type": "markdown",
      "source": [
        "So, now the picture is complete - this is how Apache iceberg can keep track on all the data in our table. We can see each data file listed here, with some metadata.\n",
        "\n",
        "we saw the manifest list file hold overall metadata about the snapshot of the data we took\n",
        "\n",
        "and saw how it is all connected in the `json` file.\n",
        "\n",
        "This is how Iceberg is able to operate, and give every processing engine a way to read the data in a unified way."
      ],
      "metadata": {
        "id": "ofBoYgs90zqI"
      },
      "id": "ofBoYgs90zqI",
      "execution_count": null
    },
    {
      "cell_type": "markdown",
      "source": [
        "### The `bus_lines` table\n",
        "\n",
        "For the `bus_lines` table, we want to simulate a table that is managed by Spark, and BigQuery is just needs to read the table.\n",
        "\n",
        "For that we will use the `EXTERNAL` Iceberg tables (method 2), managed by OSS engines, read-only by BigQuery.\n",
        "\n",
        "To simulate that, we will start a PySpark process to read the data from the staged bucket, and write it back in Iceberg format to another bucket\n",
        "\n",
        "Then mount the data in a BigQuery external table.\n",
        "\n",
        "We will also look at the Iceberg metadata generated by spark, which will show us the similarities to the BigQuery metadata we just saw.\n",
        "\n",
        "The first step is to create a REST catalog, using the **`biglake`** API."
      ],
      "metadata": {
        "id": "Z5vzIsf4UnnM"
      },
      "id": "Z5vzIsf4UnnM",
      "execution_count": null
    },
    {
      "cell_type": "code",
      "source": [
        "import json\n",
        "access_token = !gcloud auth application-default print-access-token\n",
        "access_token = access_token[0]\n",
        "\n",
        "catalog_metadata = !curl -H \"x-goog-user-project: {PROJECT_ID}\" \\\n",
        "  -H \"Accept: application/json\" \\\n",
        "  -H \"Authorization: Bearer {access_token}\" \\\n",
        "  https://biglake.googleapis.com/iceberg/v1/restcatalog/v1/config?warehouse=gs://{REST_CATALOG_BUCKET_NAME}\n",
        "\n",
        "catalog_metadata = json.loads(\"\".join(catalog_metadata))\n",
        "catalog_metadata"
      ],
      "metadata": {
        "id": "GH9LHM82Vmez"
      },
      "id": "GH9LHM82Vmez",
      "outputs": [],
      "execution_count": null
    },
    {
      "cell_type": "markdown",
      "source": "Now that we have a rest catalog, we can start up a spark session, with the required configurations",
      "metadata": {
        "id": "SHgBenFkecwX"
      },
      "id": "SHgBenFkecwX",
      "execution_count": null
    },
    {
      "metadata": {},
      "cell_type": "code",
      "outputs": [],
      "execution_count": null,
      "source": [
        "from google.cloud.dataproc_spark_connect import DataprocSparkSession\n",
        "from google.cloud.dataproc_v1 import Session\n",
        "\n",
        "session = Session()\n",
        "\n",
        "catalog_name = \"external_catalog\"\n",
        "\n",
        "session.runtime_config.properties[f'spark.sql.catalog.{catalog_name}'] = 'org.apache.iceberg.spark.SparkCatalog'\n",
        "session.runtime_config.properties[f'spark.sql.catalog.{catalog_name}.type'] = 'rest'\n",
        "session.runtime_config.properties[f'spark.sql.catalog.{catalog_name}.uri'] = 'https://biglake.googleapis.com/iceberg/v1/restcatalog'\n",
        "session.runtime_config.properties[f'spark.sql.catalog.{catalog_name}.warehouse'] = f'gs://{REST_CATALOG_BUCKET_NAME}'\n",
        "session.runtime_config.properties[f'spark.sql.catalog.{catalog_name}.header.x-goog-user-project'] = PROJECT_ID\n",
        "session.runtime_config.properties[f'spark.sql.catalog.{catalog_name}.rest.auth.type'] = 'org.apache.iceberg.gcp.auth.GoogleAuthManager'\n",
        "session.runtime_config.properties[f'spark.sql.catalog.{catalog_name}.io-impl'] = 'org.apache.iceberg.gcp.gcs.GCSFileIO'\n",
        "session.runtime_config.properties[f'spark.sql.catalog.{catalog_name}.rest-metrics-reporting-enabled'] = 'false'\n",
        "session.runtime_config.properties['spark.sql.extensions'] = 'org.apache.iceberg.spark.extensions.IcebergSparkSessionExtensions'\n",
        "session.runtime_config.properties['spark.sql.defaultCatalog'] = catalog_name\n",
        "\n",
        "\n",
        "# Create the Spark session. This will take some time.\n",
        "spark: DataprocSparkSession = (\n",
        "    DataprocSparkSession.builder\n",
        "      .appName(\"mount-bus-lines\")\n",
        "      .dataprocSessionConfig(session)\n",
        "      .getOrCreate()\n",
        ")"
      ],
      "id": "aadf46b6c0cb6919"
    },
    {
      "metadata": {},
      "cell_type": "code",
      "outputs": [],
      "execution_count": null,
      "source": [
        "# In spark, we need to create a namespace to work with our catalog.\n",
        "spark.sql(f\"CREATE NAMESPACE IF NOT EXISTS `{REST_CATALOG_PREFIX}`;\")\n",
        "spark.sql(f\"USE `{REST_CATALOG_PREFIX}`;\")\n",
        "\n",
        "# Read the staged data from the original bucket\n",
        "df = spark.read.format(\"parquet\").load(f\"gs://{GENERAL_BUCKET_NAME}/staged-data/bus_lines/\")\n",
        "\n",
        "# and write it back to the Iceberg catalog as a table.\n",
        "df.write.format(\"iceberg\").mode(\"overwrite\").saveAsTable(f\"{REST_CATALOG_PREFIX}.bus_lines\")\n"
      ],
      "id": "85bbae31464e2009"
    },
    {
      "cell_type": "code",
      "source": [
        "# Now we can see the data written in our EXTERNAL catalog bucket.\n",
        "display_blobs_with_prefix(REST_CATALOG_BUCKET_NAME, REST_CATALOG_PREFIX)"
      ],
      "metadata": {
        "id": "H77pWZzhYjZ0"
      },
      "id": "H77pWZzhYjZ0",
      "outputs": [],
      "execution_count": null
    },
    {
      "cell_type": "markdown",
      "source": [
        "Like before, we can see a similar structure - with some differences\n",
        "\n",
        "- The top folder, `rest-namespace` is just a reference to the namespace we created in Spark\n",
        "- Under the namespace `rest-namespace`, we can see a `bus_lines` folder, referencing our table, and then the familiar structure of a `data` folder, and a `metadata` folder.\n",
        "- The files under the `data` folder, are still `parquet` files\n",
        "- The files under the `metadata` folder looks slightly different, since Spark was the one creating them, and not BQ, but their purpose is the same. we can repeat the process of reading the json file, which will point to the `snap-` avro file, and so on and so on.\n",
        "\n",
        "Iceberg is the layer that enables interoperability between processing engines.\n",
        "\n",
        "Now, we just need to \"mount\" the `bus_lines` Iceberg Data in BigQuery:"
      ],
      "metadata": {
        "id": "DQO5bIO0i46Y"
      },
      "id": "DQO5bIO0i46Y",
      "execution_count": null
    },
    {
      "cell_type": "code",
      "source": [
        "metadata_blob = list(storage_client.list_blobs(REST_CATALOG_BUCKET_NAME, match_glob=f\"{REST_CATALOG_PREFIX}/bus_lines/metadata/*.metadata.json\"))[0]\n",
        "\n",
        "bigquery_client.query(f\"\"\"\n",
        "CREATE OR REPLACE EXTERNAL TABLE `{BQ_DATASET}.bus_lines`\n",
        "  WITH CONNECTION `{PROJECT_ID}.{LOCATION}.{BQ_CONNECTION_NAME}`\n",
        "  OPTIONS (\n",
        "         format = 'ICEBERG',\n",
        "         uris = [\"gs://{REST_CATALOG_BUCKET_NAME}/{metadata_blob.name}\"]\n",
        "   )\n",
        "\"\"\").result()"
      ],
      "metadata": {
        "id": "9kxivahUxGPe"
      },
      "id": "9kxivahUxGPe",
      "execution_count": null,
      "outputs": []
    },
    {
      "cell_type": "code",
      "source": [
        "# show sample rows\n",
        "select_top_rows(\"bus_lines\")"
      ],
      "metadata": {
        "id": "QOgaM-h_GNix"
      },
      "id": "QOgaM-h_GNix",
      "execution_count": null,
      "outputs": []
    },
    {
      "cell_type": "code",
      "source": [
        "# now that we confirmed that the data is available, we're done with Spark, so we can stop the session\n",
        "spark.stop()"
      ],
      "metadata": {
        "id": "CydSvZ5rleMq"
      },
      "id": "CydSvZ5rleMq",
      "outputs": [],
      "execution_count": null
    },
    {
      "cell_type": "markdown",
      "id": "BYtC",
      "metadata": {
        "id": "BYtC"
      },
      "source": [
        "### The `ridership` table\n",
        "\n",
        "Lastly, the `ridership` table will be loaded just like the `bus_stations` table, but this time we will [cluster](https://cloud.google.com/bigquery/docs/clustered-tables) the table by the timestamp."
      ],
      "execution_count": null
    },
    {
      "metadata": {},
      "cell_type": "code",
      "outputs": [],
      "execution_count": null,
      "source": [
        "ridership_prefix = f\"{BQ_CATALOG_PREFIX}/ridership/\"\n",
        "ridership_uri = f\"gs://{BQ_CATALOG_BUCKET_NAME}/{ridership_prefix}\"\n",
        "\n",
        "\n",
        "delete_blobs_with_prefix(BQ_CATALOG_BUCKET_NAME, ridership_prefix)\n",
        "\n",
        "bigquery_client.query(\n",
        "    f'DROP TABLE IF EXISTS {BQ_DATASET}.ridership;'\n",
        ").result()\n",
        "\n",
        "_create_table_stmt = f\"\"\"\n",
        "    CREATE TABLE {BQ_DATASET}.ridership (\n",
        "        transit_timestamp TIMESTAMP,\n",
        "        station_id INTEGER,\n",
        "        ridership INTEGER\n",
        "    )\n",
        "    CLUSTER BY transit_timestamp\n",
        "    WITH CONNECTION `{PROJECT_ID}.{LOCATION}.{BQ_CONNECTION_NAME}`\n",
        "    OPTIONS (\n",
        "        file_format = 'PARQUET',\n",
        "        table_format = 'ICEBERG',\n",
        "        storage_uri = '{ridership_uri}'\n",
        "    );\n",
        "\"\"\"\n",
        "bigquery_client.query(_create_table_stmt).result()"
      ],
      "id": "7da89f239a0ce38d"
    },
    {
      "metadata": {},
      "cell_type": "code",
      "outputs": [],
      "execution_count": null,
      "source": [
        "# Load data into the table\n",
        "table_ref = dataset_ref.table(\"ridership\")\n",
        "\n",
        "# BQ tables for Apache Iceberg do not support load with truncating, so we will truncate manually, and then load\n",
        "truncate = bigquery_client.query(f\"DELETE FROM {BQ_DATASET}.ridership WHERE TRUE\")\n",
        "truncate.result()\n",
        "\n",
        "job_config = bigquery.LoadJobConfig(\n",
        "    write_disposition=bigquery.WriteDisposition.WRITE_APPEND,\n",
        "    source_format=bigquery.SourceFormat.PARQUET,\n",
        ")\n",
        "\n",
        "job = bigquery_client.load_table_from_uri(\n",
        "    f\"gs://{GENERAL_BUCKET_NAME}/staged-data/ridership/*.parquet\",\n",
        "    table_ref,\n",
        "    job_config=job_config,\n",
        ")\n",
        "\n",
        "job.result()\n",
        "\n",
        "# Export the metadata\n",
        "bigquery_client.query(f\"EXPORT TABLE METADATA FROM {BQ_DATASET}.ridership\").result()"
      ],
      "id": "22398611e78794ac"
    },
    {
      "cell_type": "code",
      "source": [
        "# show sample rows\n",
        "select_top_rows(\"ridership\")"
      ],
      "metadata": {
        "id": "R3couPLLQffj"
      },
      "id": "R3couPLLQffj",
      "execution_count": null,
      "outputs": []
    },
    {
      "cell_type": "code",
      "source": "display_blobs_with_prefix(BQ_CATALOG_BUCKET_NAME, ridership_prefix + \"data/\")",
      "metadata": {
        "id": "Sb9SM9u6uanm"
      },
      "id": "Sb9SM9u6uanm",
      "execution_count": null,
      "outputs": []
    },
    {
      "cell_type": "code",
      "source": "display_blobs_with_prefix(BQ_CATALOG_BUCKET_NAME, ridership_prefix + \"metadata\")",
      "metadata": {
        "id": "eWXX4g3vA0IR"
      },
      "id": "eWXX4g3vA0IR",
      "outputs": [],
      "execution_count": null
    },
    {
      "metadata": {},
      "cell_type": "markdown",
      "source": [
        "# Conclusion\n",
        "\n",
        "In this notebook, we created our tables, loaded data - and observed what happens on GCS when managing Iceberg tables either by BigQuery or by other engines like Spark.\n",
        "\n",
        "We saw the metadata and examined how Iceberg keeps pointer to the actual data and manages schemas and metadata.\n",
        "\n",
        "In the next notebook, we will use Apache Spark to do some data processing, and focus our attention on how to read data from the different catalogs, and the pros and cons for each method of reading the data."
      ],
      "id": "525579f8760122c4",
      "execution_count": null
    }
  ],
  "metadata": {
    "colab": {
      "provenance": [],
      "name": "lakehouse_part1_load_data.ipynb",
      "toc_visible": true
    },
    "language_info": {
      "name": "python"
    },
    "kernelspec": {
      "name": "python3",
      "display_name": "Python 3"
    }
  },
  "nbformat": 4,
  "nbformat_minor": 5
}