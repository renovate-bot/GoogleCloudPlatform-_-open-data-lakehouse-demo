{
  "cells": [
    {
      "cell_type": "code",
      "id": "bJQPVBt6OLWpJUZ1XMFjuLmo",
      "metadata": {
        "tags": [],
        "id": "bJQPVBt6OLWpJUZ1XMFjuLmo"
      },
      "source": [
        "# Copyright 2025 Google LLC\n",
        "#\n",
        "# Licensed under the Apache License, Version 2.0 (the \"License\");\n",
        "# you may not use this file except in compliance with the License.\n",
        "# You may obtain a copy of the License at\n",
        "#\n",
        "#     https://www.apache.org/licenses/LICENSE-2.0\n",
        "#\n",
        "# Unless required by applicable law or agreed to in writing, software\n",
        "# distributed under the License is distributed on an \"AS IS\" BASIS,\n",
        "# WITHOUT WARRANTIES OR CONDITIONS OF ANY KIND, either express or implied.\n",
        "# See the License for the specific language governing permissions and\n",
        "# limitations under the License."
      ],
      "execution_count": null,
      "outputs": []
    },
    {
      "cell_type": "markdown",
      "source": [
        "# Ridership Open Lakehouse Demo (Part 2): Simulate Bus Rides using Apache Spark\n",
        "\n",
        "This notebook will demonstrate a strategy to implement an open lakehouse on GCP, using Apache Iceberg,\n",
        "as an open source standard for managing data, while still leveraging GCP native capabilities. This demo will use\n",
        "BigQuery Managed Iceberg Tables, Managed Apache Kafka and Apache Kafka Connect to ingest streaming data, Vertex AI for Generative AI queries on top of the data and Dataplex to govern tables.\n",
        "\n",
        "This notebook will process the data to simulate bus rides. The original datasets describes `ridership` as passengers in bus stations. We created bus lines, but not the rides. This will be the goal of this notebook. We accomplish this using **Google's Cloud Serverless Apache Spark**.\n",
        "\n",
        "The processing will simulate `bus ridership` data, based on `bus station ridership` data. The `bus station ridership` shows passengers waiting at a given station at a given timestamp. Our PySpark processing pipelines will use Pandas UDFs, simulating a bus picking up those passengers while driving it's route. The routes for the buses are taken from the pre-made `bus_lines` table.\n",
        "\n",
        "All data in this notebook was prepared in the previous `part0` notebook, and loaded in `part1` notebook.\n",
        "\n",
        "**Note about Iceberg catalogs, and how spark can use them:**\n",
        "\n",
        "In part 1, we loaded tables to bigquery in Iceberg format. To do so, we used 2 different kind of tables: 1) Managed Iceberg tables for BigQuery & 2) External Iceberg Tables for BigQuery.\n",
        "\n",
        "The main difference between them is that the managed tables are read-write for BigQuery, and read-only for spark (and other external engines) while the reverse is true for external tables.\n",
        "\n",
        "How to choose? If your main workloads are in BigQuery, and your datasets are created by BigQuery, use the managed tables, as BigQuery retains control on how tables are created, managed clustered etc. If your main workloads are in external engines, and are being written down to GCS by external tools like spark, use the external tables to mount the iceberg tables in BigQuery to make them readable by BigQuery to enable computation on that data.\n",
        "\n",
        "In order to read both types of tables, spark needs to access the metadata and the data itself - and it can do so in 2 ways:\n",
        "\n",
        "1) access the data through BigQuery: This method is no different then reading BigQuery native tables, using the [Spark-BigQuery-Connector](https://github.com/GoogleCloudDataproc/spark-bigquery-connector), which is already pre-loaded in GCP environments (Like Colab Enterprise). This means that spark will access both metadata and data, simply by accessing the BigQuery API, and use BigQuery compute slots in order to retrieve this data. **Pros:** access any data, regardless of storage, in the same way. **Cons:** uses BigQuery slots, hence effects costs differently.\n",
        "\n",
        "2) access the data through metadata on GCS: This method is the standard way to read Iceberg data, regardless of where it is stored - this means that we need to configure a catalog for spark, and tell it where the tables are stored in the iceberg format. Spark, using the `iceberg` libraries, will scan the catalogs for tables data and metadata. If the catalog was written by Spark, and is just accessible to BigQuery by external tables, we should be able to access the data the same way we written it before, using the same catalog. If the data is managed by BigQuery, we just need to make sure to expose the up-to-date metadata to spark, which means **exporting the metadata** to GCS, before starting the spark process. **Pros:** Not using BigQuery slots, keeps your processing pipelines consistent and costs to a minimum for data access. **Cons:** just more configuration.\n",
        "\n",
        "In this notebook, we will access data in all different ways. We will configure the **external** catalog that was used in notebook 1 to write the `bus_lines` external table. We will configure the **BigQuery catalog** to read the `ridership` managed table. And we will read the `bus_stations` table directly through BigQuery, using BigQuery slots to do so.\n",
        "\n",
        "Ultimately, in a real-world scenario, you will probably have some BigQuery centric pipelines, writing down data in Managed Iceberg tables, backed in one GCS bucket, and some Spark centric pipelines, writing down data in external tables, backed by another GCS bucket. And maybe some BigQuery data, that is NOT accessible by Iceberg (like native tables, views etc.). This notebook will demonstrate the ability to access all types of data in spark, while the next notebook will demonstrate accessing all types of data in BigQuery - **A truly unified Data Lakehouse**.\n"
      ],
      "metadata": {
        "id": "nWzii_MaWAoV"
      },
      "id": "nWzii_MaWAoV",
      "execution_count": null
    },
    {
      "cell_type": "markdown",
      "source": [
        "## Setup environment"
      ],
      "metadata": {
        "id": "ZwJxCNQ8YVNa"
      },
      "id": "ZwJxCNQ8YVNa",
      "execution_count": null
    },
    {
      "cell_type": "code",
      "source": [
        "import os\n",
        "USER_AGENT = \"cloud-solutions/data-to-ai-nb-v3\"\n",
        "\n",
        "PROJECT_ID = !gcloud config get-value project\n",
        "PROJECT_ID = PROJECT_ID[0]\n",
        "\n",
        "LOCATION = \"us-central1\"\n",
        "\n",
        "BQ_DATASET = \"ridership_lakehouse\"\n",
        "BQ_CONNECTION_NAME = \"cloud-resources-connection\"\n",
        "\n",
        "GENERAL_BUCKET_NAME = f\"{PROJECT_ID}-ridership-lakehouse\"\n",
        "BQ_CATALOG_BUCKET_NAME = f\"{PROJECT_ID}-iceberg-bq-catalog\"\n",
        "REST_CATALOG_BUCKET_NAME = f\"{PROJECT_ID}-iceberg-rest-catalog\"\n",
        "\n",
        "BQ_CATALOG_PREFIX = \"bq_namespace\"\n",
        "REST_CATALOG_PREFIX = \"rest_namespace\"\n",
        "\n",
        "print(PROJECT_ID)"
      ],
      "metadata": {
        "id": "t8b5qe-0v03P"
      },
      "id": "t8b5qe-0v03P",
      "execution_count": null,
      "outputs": []
    },
    {
      "cell_type": "code",
      "source": [
        "from google.cloud import bigquery, storage\n",
        "from google.api_core.client_info import ClientInfo\n",
        "\n",
        "# we will use the storage client only for demonstration purposes\n",
        "storage_client = storage.Client(\n",
        "    project=PROJECT_ID,\n",
        "    client_info=ClientInfo(user_agent=USER_AGENT)\n",
        ")\n",
        "\n",
        "# we will use the bigquery client to prepare an empty table, backed by apache iceberg parquet format.\n",
        "bigquery_client = bigquery.Client(\n",
        "    project=PROJECT_ID,\n",
        "    location=LOCATION,\n",
        "    client_info=ClientInfo(user_agent=USER_AGENT)\n",
        ")"
      ],
      "metadata": {
        "id": "RjO0NIXUemk8"
      },
      "id": "RjO0NIXUemk8",
      "execution_count": null,
      "outputs": []
    },
    {
      "cell_type": "code",
      "source": [
        "# Some helper functions\n",
        "\n",
        "import pandas as pd\n",
        "\n",
        "pd.set_option('display.max_colwidth', None)\n",
        "\n",
        "def display_blobs_with_prefix(bucket_name: str, prefix: str, top=20):\n",
        "\n",
        "  blobs = [[b.name, b.size, b.content_type, b.updated] for b in\n",
        "         storage_client.list_blobs(bucket_name, prefix=prefix, )]\n",
        "  df = pd.DataFrame(blobs, columns=[\"Name\", \"Size\", \"Content Type\", \"Updated\"])\n",
        "  return df.head(top)\n",
        "\n",
        "def delete_blobs_with_prefix(bucket_name: str, prefix: str):\n",
        "  blobs = storage_client.list_blobs(bucket_name, prefix=prefix)\n",
        "  for blob in blobs:\n",
        "    blob.delete()\n",
        "\n",
        "\n",
        "def select_top_rows(table_name: str, num_rows: int=10):\n",
        "  query = f\"\"\"\n",
        "  SELECT *\n",
        "  FROM `{PROJECT_ID}.{BQ_DATASET}.{table_name}`\n",
        "  LIMIT {num_rows}\n",
        "  \"\"\"\n",
        "  return bigquery_client.query(query).to_dataframe()"
      ],
      "metadata": {
        "id": "rvqNttdsR14g"
      },
      "id": "rvqNttdsR14g",
      "execution_count": null,
      "outputs": []
    },
    {
      "cell_type": "code",
      "source": [
        "# we will use these imports in multiple paragraphs of this notebook\n",
        "import pyspark\n",
        "import pyspark.sql.connect.functions as f\n",
        "import pyspark.sql.types as t\n",
        "from pyspark.sql import Row"
      ],
      "metadata": {
        "id": "3PfbmvdIsyr_"
      },
      "id": "3PfbmvdIsyr_",
      "execution_count": null,
      "outputs": []
    },
    {
      "cell_type": "code",
      "source": [
        "from google.cloud.dataproc_spark_connect import DataprocSparkSession\n",
        "from google.cloud.dataproc_v1 import Session\n",
        "\n",
        "session = Session()\n",
        "\n",
        "\n",
        "external_catalog = \"external_catalog\"\n",
        "bq_catalog = \"bq_catalog\"\n",
        "\n",
        "# here, we're setting the options for the external catalog, where the tables are managed by spark, and read-only for bq\n",
        "session.runtime_config.properties[f'spark.sql.catalog.{external_catalog}'] = 'org.apache.iceberg.spark.SparkCatalog'\n",
        "session.runtime_config.properties[f'spark.sql.catalog.{external_catalog}.type'] = 'rest'\n",
        "session.runtime_config.properties[f'spark.sql.catalog.{external_catalog}.uri'] = 'https://biglake.googleapis.com/iceberg/v1/restcatalog'\n",
        "session.runtime_config.properties[f'spark.sql.catalog.{external_catalog}.warehouse'] = f'gs://{REST_CATALOG_BUCKET_NAME}'\n",
        "session.runtime_config.properties[f'spark.sql.catalog.{external_catalog}.header.x-goog-user-project'] = PROJECT_ID\n",
        "session.runtime_config.properties[f'spark.sql.catalog.{external_catalog}.rest.auth.type'] = 'org.apache.iceberg.gcp.auth.GoogleAuthManager'\n",
        "session.runtime_config.properties[f'spark.sql.catalog.{external_catalog}.io-impl'] = 'org.apache.iceberg.gcp.gcs.GCSFileIO'\n",
        "session.runtime_config.properties[f'spark.sql.catalog.{external_catalog}.rest-metrics-reporting-enabled'] = 'false'\n",
        "\n",
        "# here, we're setting the options for the bigquery catalog, where the tables are managed by bigquery, and read-only for spark\n",
        "session.runtime_config.properties[f\"spark.sql.catalog.{bq_catalog}\"] = \"org.apache.iceberg.spark.SparkCatalog\"\n",
        "session.runtime_config.properties[f\"spark.sql.catalog.{bq_catalog}.catalog-impl\"] = \"org.apache.iceberg.gcp.bigquery.BigQueryMetastoreCatalog\"\n",
        "session.runtime_config.properties[f\"spark.sql.catalog.{bq_catalog}.gcp_project\"] = PROJECT_ID\n",
        "session.runtime_config.properties[f\"spark.sql.catalog.{bq_catalog}.gcp_location\"] = LOCATION\n",
        "session.runtime_config.properties[f\"spark.sql.catalog.{bq_catalog}.warehouse\"] = f\"gs://{BQ_CATALOG_BUCKET_NAME}\"\n",
        "\n",
        "# general packages and configuration\n",
        "session.runtime_config.properties[\"spark.jars.packages\"] = \"org.apache.iceberg:iceberg-spark-runtime-3.5_2.12:1.10.0,org.apache.iceberg:iceberg-gcp-bundle:1.10.0\"\n",
        "session.runtime_config.properties[\"spark.jars\"] = \"https://storage.googleapis.com/spark-lib/bigquery/spark-bigquery-with-dependencies_2.12-0.42.1.jar\"\n",
        "session.runtime_config.properties[\"spark.sql.extensions\"] = \"org.apache.iceberg.spark.extensions.IcebergSparkSessionExtensions\"\n",
        "\n",
        "# Create the Spark session. This will take some time.\n",
        "spark = (\n",
        "   DataprocSparkSession.builder\n",
        "     .appName(\"simulate-bus-rides\")\n",
        "\n",
        "     .dataprocSessionConfig(session)\n",
        "     .getOrCreate()\n",
        ")\n",
        "spark.conf.set(\"viewsEnabled\",\"true\")"
      ],
      "metadata": {
        "id": "QTz61uUpus5K"
      },
      "id": "QTz61uUpus5K",
      "execution_count": null,
      "outputs": []
    },
    {
      "cell_type": "markdown",
      "source": [
        "## Let's take a look around\n",
        "We've created a spark session, with a couple of interesting connections. We're running a spark session with the spark-bigquery-connector, which gives us access to all BigQuery tables and Views, and also configured Iceberg catalogs (the one managed by BigLake, and the REST for managing external tables)\n",
        "\n",
        "Let's take a quick look at the **catalogs** - each containig **namespses** (also known as databases) and each namespace has **tables**. And compare the access patterns,"
      ],
      "metadata": {
        "id": "D5NrjhLyj7me"
      },
      "id": "D5NrjhLyj7me",
      "execution_count": null
    },
    {
      "cell_type": "code",
      "source": [
        "# This is the default catalog, named `spark_catalog`, we can see the managed tables we have in BigQuery\n",
        "spark.sql(f\"SHOW TABLES FROM spark_catalog.{BQ_DATASET};\").toPandas()"
      ],
      "metadata": {
        "id": "6Ecb-59ZMkXp"
      },
      "id": "6Ecb-59ZMkXp",
      "execution_count": null,
      "outputs": []
    },
    {
      "cell_type": "code",
      "source": [
        "# Let's take a closer look at the bus_stations table, that our spark-bigquery-connector sees\n",
        "spark.sql(f\"DESCRIBE TABLE EXTENDED spark_catalog.{BQ_DATASET}.bus_stations;\").toPandas()"
      ],
      "metadata": {
        "id": "19qzk6NJxKH7"
      },
      "id": "19qzk6NJxKH7",
      "execution_count": null,
      "outputs": []
    },
    {
      "cell_type": "code",
      "source": [
        "# And compare that with the bus_stations table that our BigLake catalog sees\n",
        "spark.sql(f\"DESCRIBE TABLE EXTENDED {bq_catalog}.{BQ_DATASET}.bus_stations;\").toPandas()"
      ],
      "metadata": {
        "id": "Dm7m4HR2NZu1"
      },
      "id": "Dm7m4HR2NZu1",
      "execution_count": null,
      "outputs": []
    },
    {
      "cell_type": "markdown",
      "source": [
        "Can you see the difference?\n",
        "\n",
        "There are a few differences between the 2 tables, and the way our spark reads the data. Although reading the data would produce the same logical dataset, it matters how get that data.\n",
        "\n",
        "Note that the spark-bigquery-connector version (using `spark_catalog`) says in the `Table Properties` section, that the storage layer is set to `bigquery`. This implies that in order to access the data with this table, we will go though BigQuery to get the data.\n",
        "\n",
        "Note in the second description, the `Table Properties` doesn't say that, rather says that the format is `iceberg/parquet`, and we do get the exact GCS location of the data as well. This implies that to access the data, we just let the spark-iceberg library access the data directly from GCS.\n",
        "\n",
        "The way we choose to read our data has a big impact on the pricing of access to the data, since accessing it through BQ will impact BQ slots usage.\n",
        "\n",
        "With that in mind, let's read all the datasets required, each with a different method."
      ],
      "metadata": {
        "id": "8FflM0UEOaCT"
      },
      "id": "8FflM0UEOaCT",
      "execution_count": null
    },
    {
      "cell_type": "markdown",
      "source": [
        "## Load data from BigQuery\n",
        "\n",
        "For the BigQuery managed Iceberg tables, we can use 2 methods to read the data. One is the BigQuery standard way, which defers the reading of data to the BigQuery engine. This means that BigQuery slots are being used to read the data.\n",
        "\n",
        "We can also use the standard Iceberg libraries to read the data directly from GCS, and only use the BigQuery metastore to read the metadata of the iceberg files. **This will not use any BigQuery slots to read the data.** To do that, we need to export the metadata of the tables to an iceberg manifest files.\n",
        "\n",
        "In the next paragraphs we will demonstrate both methods."
      ],
      "metadata": {
        "id": "vsqPqLS8YhHR"
      },
      "id": "vsqPqLS8YhHR",
      "execution_count": null
    },
    {
      "cell_type": "code",
      "source": [
        "# Read the ridership iceberg data, from the bq catalog\n",
        "ridership_df = spark.table(f\"{bq_catalog}.`{BQ_DATASET}`.ridership\")\n",
        "ridership_df.printSchema()\n",
        "ridership_df.show(5)"
      ],
      "metadata": {
        "id": "w6oXYjDzVKsW"
      },
      "id": "w6oXYjDzVKsW",
      "execution_count": null,
      "outputs": []
    },
    {
      "cell_type": "code",
      "source": [
        "# read the bus_lines data from the external catalog\n",
        "bus_lines_df = spark.table(f\"{external_catalog}.`{REST_CATALOG_PREFIX}`.bus_lines\")\n",
        "bus_lines_df.printSchema()\n",
        "bus_lines_df.show(5)"
      ],
      "metadata": {
        "id": "Xq-ruiqQ4D_A"
      },
      "id": "Xq-ruiqQ4D_A",
      "execution_count": null,
      "outputs": []
    },
    {
      "cell_type": "code",
      "source": [
        "# To read the bus_stations data, we will use reading directly from bigquery, which uses the underlying bigquery-spark connector and uses bigquery slots to read\n",
        "bus_stations_df = spark.read.format(\"bigquery\").load(f\"{PROJECT_ID}.{BQ_DATASET}.bus_stations\")\n",
        "bus_stations_df.printSchema()\n",
        "bus_stations_df.show(5)"
      ],
      "metadata": {
        "id": "Bl3iCPGPIANj"
      },
      "id": "Bl3iCPGPIANj",
      "execution_count": null,
      "outputs": []
    },
    {
      "cell_type": "markdown",
      "source": [
        "## Prepare bus data to be joined with stations ridership\n",
        "\n",
        "Our initial `ridership` table refers to passengers waiting at bus stations, along with minute-by-minute timestamps.\n",
        "\n",
        "In order to generate bus trips, picking up passengers along the way, we need to understand what are the available time ranges that we can simulate bus riders, then start simulating trips, from station to station."
      ],
      "metadata": {
        "id": "uuNx-12gYwcQ"
      },
      "id": "uuNx-12gYwcQ",
      "execution_count": null
    },
    {
      "cell_type": "code",
      "source": [
        "# 1. Calculate min and max transit_timestamp for each station_id\n",
        "station_time_summary_df = ridership_df.groupBy(\"station_id\").agg(\n",
        "    f.min(\"transit_timestamp\").alias(\"min_station_timestamp\"),\n",
        "    f.max(\"transit_timestamp\").alias(\"max_station_timestamp\")\n",
        ")\n",
        "station_time_summary_df.show(5)"
      ],
      "metadata": {
        "id": "HK0qlEp46nQx"
      },
      "id": "HK0qlEp46nQx",
      "execution_count": null,
      "outputs": []
    },
    {
      "cell_type": "code",
      "source": [
        "# 2. Explode the 'stops' array in bus_lines_df to get each station_id on a new row\n",
        "exploded_bus_stops_df = bus_lines_df.withColumn(\"station_id\", f.explode(\"stops\"))\n",
        "\n",
        "# 3. Join the exploded bus_stops_df with the station_time_summary_df\n",
        "# Use a 'left' join to keep all bus lines, even if some of their stops have no ridership data\n",
        "bus_lines_with_station_times = exploded_bus_stops_df.join(\n",
        "    station_time_summary_df,\n",
        "    on=\"station_id\",\n",
        "    how=\"left\"\n",
        ")\n",
        "\n",
        "# 4. Aggregate back by bus_line_id to find the overall min and max timestamp across all its stops\n",
        "# we will take the max from the minimum stations, ensuring we have data for all the stations in the route of the bus line\n",
        "# and the reverse for the maximum stations (take the min out of the max group)\n",
        "bus_line_overall_times_df = bus_lines_with_station_times.groupBy(\"bus_line_id\").agg(\n",
        "    # The maximum of the min_station_timestamp for all stops on the line\n",
        "    f.max(\"min_station_timestamp\").alias(\"min_transit_timestamp\"),\n",
        "    # The minimum of the max_station_timestamp for all stops on the line\n",
        "    f.min(\"max_station_timestamp\").alias(\"max_transit_timestamp\")\n",
        ")\n",
        "\n",
        "# this will show us for each bus line, the time ranges in which we can simulate rides\n",
        "bus_line_overall_times_df.show(10)"
      ],
      "metadata": {
        "id": "zYlqYY_n6mip"
      },
      "id": "zYlqYY_n6mip",
      "execution_count": null,
      "outputs": []
    },
    {
      "cell_type": "code",
      "source": [
        "# join back to the full bus line data, to get the full context of each bus line\n",
        "bus_lines_with_min_max = bus_line_overall_times_df.join(bus_lines_df, on=\"bus_line_id\")\n",
        "bus_lines_with_min_max.show(10)"
      ],
      "metadata": {
        "id": "Toh8J9nS1Qnz"
      },
      "id": "Toh8J9nS1Qnz",
      "execution_count": null,
      "outputs": []
    },
    {
      "cell_type": "markdown",
      "source": [
        "## Simulate bus trips - without passengers (for now)"
      ],
      "metadata": {
        "id": "lvgpzy5LbHfF"
      },
      "id": "lvgpzy5LbHfF",
      "execution_count": null
    },
    {
      "cell_type": "code",
      "source": [
        "from typing import List, Tuple, TypeVar\n",
        "from datetime import datetime, timedelta\n",
        "import random\n",
        "\n",
        "# A bus ride is a tuple of:\n",
        "# str: bus_ride_id - will be a composite of the bus line and the start-time\n",
        "# int: bus_line_id\n",
        "# str: bus_size (S, M, L)\n",
        "# int: seating_capacity\n",
        "# int: standing_capacity\n",
        "# int: total_capacity\n",
        "# int: stop_id\n",
        "# int: stor_index\n",
        "# datetime: stop datetime\n",
        "BusRide = Tuple[str, int, str, str, int, int, int, int, int, bool, datetime]\n",
        "\n",
        "# the equivalent pyspark structtype:\n",
        "BusRideStructType = t.StructType(\n",
        "    [\n",
        "        t.StructField(\"bus_ride_id\", t.StringType()),\n",
        "        t.StructField(\"bus_line_id\", t.IntegerType()),\n",
        "        t.StructField(\"bus_line\", t.StringType()),\n",
        "        t.StructField(\"bus_size\", t.StringType()),\n",
        "        t.StructField(\"seating_capacity\", t.IntegerType()),\n",
        "        t.StructField(\"standing_capacity\", t.IntegerType()),\n",
        "        t.StructField(\"total_capacity\", t.IntegerType()),\n",
        "        t.StructField(\"bus_stop_id\", t.IntegerType()),\n",
        "        t.StructField(\"bus_stop_index\", t.IntegerType()),\n",
        "        t.StructField(\"num_of_bus_stops\", t.IntegerType()),\n",
        "        t.StructField(\"last_stop\", t.BooleanType()),\n",
        "        t.StructField(\"timestamp_at_stop\", t.TimestampType())\n",
        "    ]\n",
        ")\n",
        "\n",
        "BUS_SIZE_MAP = {\n",
        "    \"S\": (20, 20),\n",
        "    \"M\": (30, 25),\n",
        "    \"L\": (40, 30),\n",
        "}\n",
        "\n",
        "# Returns a list of bus_rides - this is a standard python function\n",
        "# it will be wrapped to be a spark UDF\n",
        "# it will be called for each bus line, that we have now the global start\n",
        "# time and the last time stamp for which we have data for\n",
        "# the argument `row` is a row from the bus lines described in the last paragraph\n",
        "def generate_ride_times(row: t.Row) -> List[BusRide]:\n",
        "    # global start time and end time (roughly 4 years of data between these timestamps)\n",
        "    start_time = row.min_transit_timestamp\n",
        "    end_time = row.max_transit_timestamp\n",
        "    rides = []\n",
        "    trips_count = 0\n",
        "    # this loop will execute once while we're in the bounds of the global start and end times\n",
        "    # basically each time this outer while loop runs, we will continue generating trips\n",
        "    # the inner for loop will execute for each stop in one trip\n",
        "    while start_time < end_time:\n",
        "        # new ride id\n",
        "        new_bus_ride_id = f\"{row.bus_line_id}_{start_time.strftime('%Y-%m-%d_%H-%M-%S')}\"\n",
        "\n",
        "        # some parameters for this bus ride, choosing a size of bus\n",
        "        bus_size = random.choice(list(BUS_SIZE_MAP.keys()))\n",
        "        seating_capacity, standing_capacity = BUS_SIZE_MAP[bus_size]\n",
        "\n",
        "        # this will cover all the stops in one ride, will be merged to the outer `rides` list\n",
        "        one_trip_stops = []\n",
        "\n",
        "        # stop time is the timestamp at which we arrived at a bus stop. we start a ride with the same ride time.\n",
        "        stop_time = start_time\n",
        "\n",
        "        # for each station / bus stop\n",
        "        for i, stop in enumerate(row.stops):\n",
        "            # if we are now past the global end time, just stop the loop\n",
        "            if stop_time > end_time:\n",
        "                break\n",
        "            # generate one stop data\n",
        "            one_trip_stops.append(\n",
        "                (\n",
        "                    new_bus_ride_id,\n",
        "                    row.bus_line_id,\n",
        "                    row.bus_line,\n",
        "                    bus_size,\n",
        "                    seating_capacity,\n",
        "                    standing_capacity,\n",
        "                    seating_capacity + standing_capacity,\n",
        "                    stop,\n",
        "                    i + 1,\n",
        "                    len(row.stops),\n",
        "                    i == len(row.stops) - 1,\n",
        "                    stop_time\n",
        "                )\n",
        "            )\n",
        "            # move the stop_time to the next stop by small number of minutes\n",
        "            stop_time = stop_time + timedelta(minutes=random.choice([1, 2, 3]))\n",
        "            # End generating bus stop data, move the next station\n",
        "        # finished all stops in a station - move one_trip_stops data to rides list, before it resets\n",
        "        rides.extend(one_trip_stops)\n",
        "        # increase trips_count\n",
        "        trips_count += 1\n",
        "        # move the start time to the next, but the number of the bus line frequency minutes.\n",
        "        start_time = start_time + timedelta(minutes=trips_count * row.frequency_minutes)\n",
        "    return rides\n",
        "\n",
        "# wrap our function to be a spark udf\n",
        "generate_ride_times_udf = f.udf(generate_ride_times, t.ArrayType(BusRideStructType))\n",
        "\n",
        "# we now select the call to the UDF, passing in each row, and exploding the output, since it is returning a list/array\n",
        "bus_rides = bus_lines_with_min_max.select(\n",
        "    f.explode(generate_ride_times_udf(f.struct(*bus_lines_with_min_max.columns))).alias(\"rides\")\n",
        ").select(\"rides.*\")\n",
        "\n",
        "bus_rides.show(10)"
      ],
      "metadata": {
        "id": "CwdE8s1z1lHS"
      },
      "id": "CwdE8s1z1lHS",
      "execution_count": null,
      "outputs": []
    },
    {
      "cell_type": "markdown",
      "source": [
        "## Join with ridership data\n",
        "\n",
        "This is a short section, to join the `ridership` df, allowing us to see how many passengers are in each station of a trip, by bus_stop and timestamp"
      ],
      "metadata": {
        "id": "pSbAjla4r6bR"
      },
      "id": "pSbAjla4r6bR",
      "execution_count": null
    },
    {
      "cell_type": "code",
      "source": [
        "# join with the ridership data, by each station_id and the timestamp\n",
        "bus_rides_with_ridership = bus_rides.alias(\"rides\").join(\n",
        "    ridership_df.alias(\"ridership\"),\n",
        "     (f.col(\"rides.bus_stop_id\") == f.col(\"ridership.station_id\")) & (f.col(\"rides.timestamp_at_stop\") == f.col(\"ridership.transit_timestamp\")),\n",
        "    \"inner\"\n",
        ")\n",
        "\n",
        "# drop redundant columns and rename `ridership` to `passengers_in_stop` for clarity\n",
        "bus_rides_with_ridership = bus_rides_with_ridership.drop(\"transit_timestamp\").drop(\"station_id\").withColumnRenamed(\n",
        "    \"ridership\", \"passengers_in_stop\"\n",
        ")\n",
        "# cache this, as this will be used again shortly\n",
        "bus_rides_with_ridership.cache()\n",
        "bus_rides_with_ridership.show(10)"
      ],
      "metadata": {
        "id": "Mp620fstyTRn"
      },
      "id": "Mp620fstyTRn",
      "execution_count": null,
      "outputs": []
    },
    {
      "cell_type": "code",
      "source": [
        "bus_rides_with_ridership.printSchema()"
      ],
      "metadata": {
        "id": "Gh0VvW-f7wkD"
      },
      "id": "Gh0VvW-f7wkD",
      "execution_count": null,
      "outputs": []
    },
    {
      "cell_type": "markdown",
      "source": [
        "## Aggregate passengers\n",
        "\n",
        "This section will aggregate for each ride, passengers from each station, taking into consideration the passengers \"alighting\" or  leaving the bus, and the overall bus capacity.\n",
        "\n",
        "This means we will take the `bus_rides_with_ridership` df, and extend it to contain more data, specifically about:\n",
        "- `passengers_alighting`: passengers departing at each stop\n",
        "- `passengers_boarding`: passengers onboarding at each stop (we can't necessarily fit all the people in a stop to our bus)\n",
        "- `remaining_capacity`: after passengers have boarded and alighted, how much room do we still have on the bus\n",
        "- `remaining_at_stop`: number of passengers who have no more room left and have to wait at the stop for the next bus\n",
        "- `total_passengers`: number of passengers on the bus, after boarding and alighting."
      ],
      "metadata": {
        "id": "w6uKurclsQqo"
      },
      "id": "w6uKurclsQqo",
      "execution_count": null
    },
    {
      "cell_type": "code",
      "source": [
        "import pandas as pd\n",
        "\n",
        "# Define the schema for the output of the Pandas UDF\n",
        "# It should include all existing columns from bus_rides_with_ridership\n",
        "# plus the new 'passengers_alighting' and 'total_passengers' columns.\n",
        "simulated_ride_output_schema = t.StructType(\n",
        "    bus_rides_with_ridership.schema.fields + [\n",
        "        t.StructField(\"passengers_alighting\", t.LongType(), True),\n",
        "        t.StructField(\"passengers_boarding\", t.LongType(), True),\n",
        "        t.StructField(\"remaining_capacity\", t.LongType(), True),\n",
        "        t.StructField(\"remaining_at_stop\", t.LongType(), True),\n",
        "        t.StructField(\"total_passengers\", t.LongType(), True),\n",
        "    ]\n",
        ")\n",
        "\n",
        "\n",
        "# this python function accepts a dataframe, and returns the same.\n",
        "# each call to the function will be of a dataframe representing one trip for one bus\n",
        "# it will generate and calculate all the above attributes,\n",
        "# and return an extended dataframe with all of the relevant data\n",
        "def calculate_bus_passengers(pdf: pd.DataFrame) -> pd.DataFrame:\n",
        "    \"\"\"\n",
        "    Calculates the total number of passengers on the bus at each stop for a given bus ride.\n",
        "    The number of passengers alighting is a random proportion of the boarding ridership,\n",
        "    but cannot exceed the current number of passengers on the bus.\n",
        "    this tracks to the logic that a central station, will have many people coming into the bus but also many people leaving the bus.\n",
        "    note, that in a real-world scenario, this might be an overly simplistic heuristic, but our use case will be good enough.\n",
        "    \"\"\"\n",
        "    import numpy as np\n",
        "\n",
        "    # andle empty input DataFrame gracefully\n",
        "    if pdf is None or pdf.empty:\n",
        "        # Return an empty DataFrame with the exact schema expected by Spark\n",
        "        # This prevents UnboundLocalError when a group is empty.\n",
        "        empty_pdf_data = pd.DataFrame(columns=[c for c in simulated_ride_output_schema.fieldNames])\n",
        "        return pd.DataFrame(empty_pdf_data)\n",
        "\n",
        "    # Sort the DataFrame by bus_stop_index to ensure correct iterative calculation\n",
        "    pdf = pdf.sort_values(by=\"bus_stop_index\").reset_index(drop=True)\n",
        "\n",
        "    # Initialize passengers on the bus at the start of this ride segment\n",
        "    current_passengers_on_bus = 0\n",
        "    alighting_passengers_list = []\n",
        "    passengers_boarding_list = []\n",
        "    total_passengers_list = []\n",
        "    remainig_capacity_list = []\n",
        "    remaining_at_stop_list = []\n",
        "\n",
        "    # for each bus stop along the ride\n",
        "    for index, row in pdf.iterrows():\n",
        "        # If we are at the last stop of this ride, all passengers are alighting and non are boarding\n",
        "        if row['last_stop']:\n",
        "            passengers_alighting = current_passengers_on_bus\n",
        "            passengers_boarding = 0\n",
        "            passengers_in_stop = 0\n",
        "            current_passengers_on_bus = 0\n",
        "            remaining_at_stop = 0\n",
        "        else:\n",
        "            # Get passengers trying to board at this stop (passengers_in_stop), treating None as 0\n",
        "            # not sure they all have room\n",
        "            passengers_in_stop = row['passengers_in_stop'] if pd.notnull(row['passengers_in_stop']) else 0\n",
        "\n",
        "            # Calculate random passengers alighting:\n",
        "            # It's a random normal distribution, proportional to the passengers in the station (central stations have lots of people coming on and off).\n",
        "            potential_alighting = int(np.random.normal(loc=passengers_in_stop, scale=passengers_in_stop / 4))\n",
        "\n",
        "            # Ensure alighting passengers do not exceed the number of passengers currently on the bus\n",
        "            # and also ensure it's not negative.\n",
        "            passengers_alighting = max(0, min(potential_alighting, current_passengers_on_bus))\n",
        "\n",
        "            # update the number of passengers on the bus (this will change again soon with the number of boarding passengers)\n",
        "            current_passengers_on_bus = current_passengers_on_bus - passengers_alighting\n",
        "\n",
        "            # Calculate the number of passengers currently on the bus after alighting\n",
        "            temporary_capacity = row['total_capacity'] - current_passengers_on_bus\n",
        "\n",
        "            # actual passengers on bus is the lower number from our remaining capacity after boarding, and people at the stop\n",
        "            # meaning, that we will take all the passengers waiting, if we can.\n",
        "            # if the capacity is lower, some will be left waiting on the bus station.\n",
        "            passengers_boarding = min(temporary_capacity, passengers_in_stop)\n",
        "            remaining_at_stop = passengers_in_stop - passengers_boarding\n",
        "\n",
        "            # Passengers after boarding at this stop\n",
        "            current_passengers_on_bus = current_passengers_on_bus + passengers_boarding\n",
        "\n",
        "        # Store the results for this row\n",
        "        alighting_passengers_list.append(passengers_alighting)\n",
        "        total_passengers_list.append(current_passengers_on_bus)\n",
        "        passengers_boarding_list.append(passengers_boarding)\n",
        "        remainig_capacity_list.append(row['total_capacity'] - current_passengers_on_bus)\n",
        "        remaining_at_stop_list.append(remaining_at_stop)\n",
        "\n",
        "    # Add the new columns to the pandas DataFrame\n",
        "    pdf['passengers_alighting'] = alighting_passengers_list\n",
        "    pdf['total_passengers'] = total_passengers_list\n",
        "    pdf['passengers_boarding'] = passengers_boarding_list\n",
        "    pdf['remaining_capacity'] = remainig_capacity_list\n",
        "    pdf['remaining_at_stop'] = remaining_at_stop_list\n",
        "    return pdf\n",
        "\n",
        "# Apply the Pandas UDF to the bus_rides_with_ridership DataFrame\n",
        "# Group by bus_ride_id to apply the simulation independently for each ride\n",
        "bus_rides_with_riders_and_totals = bus_rides_with_ridership.groupBy(\"bus_ride_id\").applyInPandas(\n",
        "    calculate_bus_passengers, schema=simulated_ride_output_schema\n",
        ")\n",
        "\n",
        "bus_rides_with_riders_and_totals.show(10, truncate=False)\n",
        "bus_rides_with_riders_and_totals.printSchema()"
      ],
      "metadata": {
        "id": "pGoWARrtkpXp"
      },
      "id": "pGoWARrtkpXp",
      "execution_count": null,
      "outputs": []
    },
    {
      "cell_type": "markdown",
      "source": [
        "## Store results to bigquery"
      ],
      "metadata": {
        "id": "PmA42JP2vORp"
      },
      "id": "PmA42JP2vORp",
      "execution_count": null
    },
    {
      "cell_type": "code",
      "source": [
        "TABLE_NAME = \"bus_rides\"\n",
        "\n",
        "# drop an existing table, if needed\n",
        "bus_rides_prefix = f\"{BQ_CATALOG_PREFIX}/{TABLE_NAME}\"\n",
        "bigquery_client.delete_table(f\"{PROJECT_ID}.{BQ_DATASET}.{TABLE_NAME}\", not_found_ok=True)\n",
        "delete_blobs_with_prefix(BQ_CATALOG_BUCKET_NAME, bus_rides_prefix)\n",
        "display_blobs_with_prefix(BQ_CATALOG_BUCKET_NAME, bus_rides_prefix)"
      ],
      "metadata": {
        "id": "1qRROmbUvUgS"
      },
      "id": "1qRROmbUvUgS",
      "execution_count": null,
      "outputs": []
    },
    {
      "cell_type": "code",
      "source": [
        "bus_rides_uri = f\"gs://{BQ_CATALOG_BUCKET_NAME}/{bus_rides_prefix}/\"\n",
        "\n",
        "fields = bus_rides_with_riders_and_totals.schema.fields\n",
        "fields_sql = \"\"\n",
        "\n",
        "for field in fields:\n",
        "    type_name = field.dataType.typeName().replace(\"Type()\", \"\").upper()\n",
        "    if type_name == \"LONG\":\n",
        "        type_name = \"INT64\"\n",
        "    fields_sql += field.name + \" \" + type_name + \",\\n\"\n",
        "\n",
        "query = f\"\"\"\n",
        "CREATE TABLE {BQ_DATASET}.{TABLE_NAME}\n",
        "(\n",
        "  {fields_sql}\n",
        ")\n",
        "WITH CONNECTION `{PROJECT_ID}.{LOCATION}.{BQ_CONNECTION_NAME}`\n",
        "OPTIONS (\n",
        "  file_format = 'PARQUET',\n",
        "  table_format = 'ICEBERG',\n",
        "  storage_uri = '{bus_rides_uri}');\n",
        "\"\"\"\n",
        "bigquery_client.query(query).result()"
      ],
      "metadata": {
        "id": "N-_xAQMqvYr9"
      },
      "id": "N-_xAQMqvYr9",
      "execution_count": null,
      "outputs": []
    },
    {
      "cell_type": "code",
      "source": [
        "display_blobs_with_prefix(BQ_CATALOG_BUCKET_NAME, bus_rides_prefix)"
      ],
      "metadata": {
        "id": "_Eue5yezpmM4"
      },
      "id": "_Eue5yezpmM4",
      "execution_count": null,
      "outputs": []
    },
    {
      "cell_type": "code",
      "source": [
        "# save the bus_rides_with_riders_and_totals dataframe to bigquery, with iceberg format\n",
        "bus_rides_with_riders_and_totals.write \\\n",
        "    .format(\"bigquery\") \\\n",
        "    .mode(\"overwrite\") \\\n",
        "    .option(\"table\", f\"{PROJECT_ID}.{BQ_DATASET}.{TABLE_NAME}\") \\\n",
        "    .save()\n"
      ],
      "metadata": {
        "id": "_V342-bis5qQ"
      },
      "id": "_V342-bis5qQ",
      "execution_count": null,
      "outputs": []
    },
    {
      "cell_type": "code",
      "source": [
        "display_blobs_with_prefix(BQ_CATALOG_BUCKET_NAME, bus_rides_prefix)"
      ],
      "metadata": {
        "id": "LSZcQp_6aFgL"
      },
      "id": "LSZcQp_6aFgL",
      "execution_count": null,
      "outputs": []
    },
    {
      "cell_type": "code",
      "source": [
        "select_top_rows(TABLE_NAME)"
      ],
      "metadata": {
        "id": "-gOiqF1Ya82X"
      },
      "id": "-gOiqF1Ya82X",
      "execution_count": null,
      "outputs": []
    }
  ],
  "metadata": {
    "kernelspec": {
      "display_name": "Python 3",
      "language": "python",
      "name": "python3"
    },
    "language_info": {
      "codemirror_mode": {
        "name": "ipython",
        "version": 3
      },
      "file_extension": ".py",
      "mimetype": "text/x-python",
      "name": "python",
      "nbconvert_exporter": "python",
      "pygments_lexer": "ipython3",
      "version": "3.10.10"
    },
    "colab": {
      "provenance": [],
      "name": "lakehouse_part2_spark_processing.ipynb",
      "toc_visible": true
    }
  },
  "nbformat": 4,
  "nbformat_minor": 5
}